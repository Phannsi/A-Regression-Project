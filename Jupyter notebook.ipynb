version https://git-lfs.github.com/spec/v1
oid sha256:ba0dd170f63a9ff4c617becb7e7db80222e691c011649405a961a0f8d0475150
size 2175068
